{
 "cells": [
  {
   "cell_type": "code",
   "execution_count": 1,
   "metadata": {},
   "outputs": [],
   "source": [
    "import pandas as pd\n",
    "import json\n",
    "import collections\n",
    "import re"
   ]
  },
  {
   "cell_type": "code",
   "execution_count": 2,
   "metadata": {},
   "outputs": [],
   "source": [
    "with open('services_list_example.json', \"r\") as json_file:\n",
    "    json_data = json.load(json_file)\n",
    "#print(json_data[0])\n",
    "for i in range(0, len(json_data)):\n",
    "    val = json_data[i].get('Spec')\n",
    "    #print(val)"
   ]
  },
  {
   "cell_type": "code",
   "execution_count": 3,
   "metadata": {},
   "outputs": [
    {
     "name": "stdout",
     "output_type": "stream",
     "text": [
      "int\n",
      "ucp-agent\n",
      "3.3.4\n"
     ]
    }
   ],
   "source": [
    "lifecycle = json_data[0]['Spec']['Name'].partition(\"-\")[0]\n",
    "service_name = re.split(':|/alight/|/|\\*|\\n', json_data[11]['Spec']['TaskTemplate']['ContainerSpec']['Image'])[1]\n",
    "service_version = json_data[11]['Spec']['TaskTemplate']['ContainerSpec']['Image'].partition(\":\")[2]\n",
    "print(lifecycle, service_name, service_version, sep='\\n')"
   ]
  },
  {
   "cell_type": "code",
   "execution_count": 4,
   "metadata": {},
   "outputs": [],
   "source": [
    "final_dict = {'lifecycle':[], 'service_name':[], 'service_version':[]}\n",
    "for i in range(0, len(json_data)):\n",
    "    final_dict['lifecycle'].append(json_data[i]['Spec']['Name'])\n",
    "    final_dict['service_name'].append(json_data[i]['Spec']['TaskTemplate']['ContainerSpec']['Image'])\n",
    "    final_dict['service_version'].append(json_data[i]['Spec']['TaskTemplate']['ContainerSpec']['Image'])\n",
    "    \n",
    "#print(final_dict['service_name'])\n"
   ]
  },
  {
   "cell_type": "code",
   "execution_count": 5,
   "metadata": {},
   "outputs": [
    {
     "data": {
      "text/plain": [
       "{'service_name': ['Spec', 'TaskTemplate', 'ContainerSpec', 'Image']}"
      ]
     },
     "execution_count": 5,
     "metadata": {},
     "output_type": "execute_result"
    }
   ],
   "source": [
    "df = pd.DataFrame(final_dict)\n",
    "{'service_name':['Spec','TaskTemplate','ContainerSpec','Image']}\n",
    "#df.head(20)"
   ]
  },
  {
   "cell_type": "code",
   "execution_count": 37,
   "metadata": {},
   "outputs": [
    {
     "ename": "TypeError",
     "evalue": "'dict' object is not callable",
     "output_type": "error",
     "traceback": [
      "\u001b[1;31m---------------------------------------------------------------------------\u001b[0m",
      "\u001b[1;31mTypeError\u001b[0m                                 Traceback (most recent call last)",
      "\u001b[1;32md:\\Django_projects\\api_project\\docker_swarm.ipynb Cell 6'\u001b[0m in \u001b[0;36m<module>\u001b[1;34m\u001b[0m\n\u001b[0;32m      <a href='vscode-notebook-cell:/d%3A/Django_projects/api_project/docker_swarm.ipynb#ch0000005?line=7'>8</a>\u001b[0m             \u001b[39m#new_dict[k].append(json_data[i][j] for j in v)\u001b[39;00m\n\u001b[0;32m      <a href='vscode-notebook-cell:/d%3A/Django_projects/api_project/docker_swarm.ipynb#ch0000005?line=8'>9</a>\u001b[0m     \u001b[39mreturn\u001b[39;00m new_dict\n\u001b[1;32m---> <a href='vscode-notebook-cell:/d%3A/Django_projects/api_project/docker_swarm.ipynb#ch0000005?line=9'>10</a>\u001b[0m life\u001b[39m=\u001b[39m create_dataframe({\u001b[39m'\u001b[39;49m\u001b[39mlifecycle\u001b[39;49m\u001b[39m'\u001b[39;49m:[\u001b[39m'\u001b[39;49m\u001b[39mSpec\u001b[39;49m\u001b[39m'\u001b[39;49m,\u001b[39m'\u001b[39;49m\u001b[39mName\u001b[39;49m\u001b[39m'\u001b[39;49m], \u001b[39m'\u001b[39;49m\u001b[39mservice_name\u001b[39;49m\u001b[39m'\u001b[39;49m: [\u001b[39m'\u001b[39;49m\u001b[39mSpec\u001b[39;49m\u001b[39m'\u001b[39;49m, \u001b[39m'\u001b[39;49m\u001b[39mTaskTemplate\u001b[39;49m\u001b[39m'\u001b[39;49m, \u001b[39m'\u001b[39;49m\u001b[39mContainerSpec\u001b[39;49m\u001b[39m'\u001b[39;49m, \u001b[39m'\u001b[39;49m\u001b[39mImage\u001b[39;49m\u001b[39m'\u001b[39;49m]})\n",
      "\u001b[1;32md:\\Django_projects\\api_project\\docker_swarm.ipynb Cell 6'\u001b[0m in \u001b[0;36mcreate_dataframe\u001b[1;34m(fields_name)\u001b[0m\n\u001b[0;32m      <a href='vscode-notebook-cell:/d%3A/Django_projects/api_project/docker_swarm.ipynb#ch0000005?line=3'>4</a>\u001b[0m \u001b[39mfor\u001b[39;00m k, v \u001b[39min\u001b[39;00m fields_name\u001b[39m.\u001b[39mitems():\n\u001b[0;32m      <a href='vscode-notebook-cell:/d%3A/Django_projects/api_project/docker_swarm.ipynb#ch0000005?line=4'>5</a>\u001b[0m     \u001b[39mfor\u001b[39;00m i \u001b[39min\u001b[39;00m \u001b[39mrange\u001b[39m(\u001b[39m0\u001b[39m, \u001b[39mlen\u001b[39m(json_data)):\n\u001b[1;32m----> <a href='vscode-notebook-cell:/d%3A/Django_projects/api_project/docker_swarm.ipynb#ch0000005?line=5'>6</a>\u001b[0m         element \u001b[39m=\u001b[39m (json_data[i](\u001b[39mlist\u001b[39;49m(\u001b[39mmap\u001b[39;49m(\u001b[39mlambda\u001b[39;49;00m x:[x],v))))\n\u001b[0;32m      <a href='vscode-notebook-cell:/d%3A/Django_projects/api_project/docker_swarm.ipynb#ch0000005?line=6'>7</a>\u001b[0m         \u001b[39mprint\u001b[39m(element)\n\u001b[0;32m      <a href='vscode-notebook-cell:/d%3A/Django_projects/api_project/docker_swarm.ipynb#ch0000005?line=7'>8</a>\u001b[0m         \u001b[39m#new_dict[k].append(json_data[i][j] for j in v)\u001b[39;00m\n",
      "\u001b[1;31mTypeError\u001b[0m: 'dict' object is not callable"
     ]
    }
   ],
   "source": [
    "def create_dataframe(fields_name):\n",
    "    new_dict = {i: [] for i in fields_name.keys()}\n",
    "    #print(new_dict)\n",
    "    for k, v in fields_name.items():\n",
    "        for i in range(0, len(json_data)):\n",
    "            #element = (json_data[i](list(map(lambda x:[x],v))))\n",
    "            #print(element)\n",
    "            #new_dict[k].append(json_data[i][j] for j in v)\n",
    "    return new_dict\n",
    "life= create_dataframe({'lifecycle':['Spec','Name'], 'service_name': ['Spec', 'TaskTemplate', 'ContainerSpec', 'Image']})\n",
    "#print(life)\n",
    "\n"
   ]
  },
  {
   "cell_type": "code",
   "execution_count": 35,
   "metadata": {},
   "outputs": [],
   "source": [
    "from docker_swarm_mod import create_df"
   ]
  },
  {
   "cell_type": "code",
   "execution_count": 10,
   "metadata": {},
   "outputs": [],
   "source": [
    "def findkeys(node, kv):\n",
    "        \n",
    "        if isinstance(node, list):\n",
    "            for i in node:\n",
    "                for x in findkeys(i, kv):\n",
    "                    yield x\n",
    "        elif isinstance(node, dict):\n",
    "            if kv in node:\n",
    "                yield node[kv] \n",
    "            \n",
    "            for j in node.values():\n",
    "                for x in findkeys(j, kv):\n",
    "                    yield x\n",
    "sorted_data = list(findkeys(json_data, str('Name')))\n",
    "#print(sorted_data)"
   ]
  },
  {
   "cell_type": "code",
   "execution_count": 11,
   "metadata": {},
   "outputs": [],
   "source": [
    "df2 = create_df('services_list_example.json')\n",
    "#df2"
   ]
  },
  {
   "cell_type": "code",
   "execution_count": 32,
   "metadata": {},
   "outputs": [
    {
     "name": "stdout",
     "output_type": "stream",
     "text": [
      "[['spec'], ['name']]\n"
     ]
    }
   ],
   "source": [
    "l = ['spec', 'name']\n",
    "l1 = list(map(lambda x:[x], l))\n",
    "print(l1)"
   ]
  },
  {
   "cell_type": "markdown",
   "metadata": {},
   "source": []
  }
 ],
 "metadata": {
  "interpreter": {
   "hash": "5fd5c06275f551dc8d943d7024d9c953f74399b8cce1e314d6eaa234ec1df002"
  },
  "kernelspec": {
   "display_name": "Python 3.10.0 ('api_env': venv)",
   "language": "python",
   "name": "python3"
  },
  "language_info": {
   "codemirror_mode": {
    "name": "ipython",
    "version": 3
   },
   "file_extension": ".py",
   "mimetype": "text/x-python",
   "name": "python",
   "nbconvert_exporter": "python",
   "pygments_lexer": "ipython3",
   "version": "3.10.0"
  },
  "orig_nbformat": 4
 },
 "nbformat": 4,
 "nbformat_minor": 2
}
