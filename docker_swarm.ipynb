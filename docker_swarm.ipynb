{
 "cells": [
  {
   "cell_type": "code",
   "execution_count": 46,
   "metadata": {},
   "outputs": [],
   "source": [
    "import pandas as pd\n",
    "import json\n",
    "import collections\n",
    "import re"
   ]
  },
  {
   "cell_type": "code",
   "execution_count": 47,
   "metadata": {},
   "outputs": [],
   "source": [
    "with open('services_list_example.json', \"r\") as json_file:\n",
    "    json_data = json.load(json_file)\n",
    "#print(json_data[0])\n",
    "for i in range(0, len(json_data)):\n",
    "    val = json_data[i].get('Spec')\n",
    "    #print(val)"
   ]
  },
  {
   "cell_type": "code",
   "execution_count": 48,
   "metadata": {},
   "outputs": [
    {
     "name": "stdout",
     "output_type": "stream",
     "text": [
      "int\n",
      "ucp-agent\n",
      "3.3.4\n"
     ]
    }
   ],
   "source": [
    "lifecycle = json_data[0]['Spec']['Name'].partition(\"-\")[0]\n",
    "service_name = re.split(':|/alight/|/|\\*|\\n', json_data[11]['Spec']['TaskTemplate']['ContainerSpec']['Image'])[1]\n",
    "service_version = json_data[11]['Spec']['TaskTemplate']['ContainerSpec']['Image'].partition(\":\")[2]\n",
    "print(lifecycle, service_name, service_version, sep='\\n')"
   ]
  },
  {
   "cell_type": "code",
   "execution_count": 49,
   "metadata": {},
   "outputs": [],
   "source": [
    "final_dict = {'lifecycle':[], 'service_name':[], 'service_version':[]}\n",
    "for i in range(0, len(json_data)):\n",
    "    final_dict['lifecycle'].append(json_data[i]['Spec']['Name'])\n",
    "    final_dict['service_name'].append(json_data[i]['Spec']['TaskTemplate']['ContainerSpec']['Image'])\n",
    "    final_dict['service_version'].append(json_data[i]['Spec']['TaskTemplate']['ContainerSpec']['Image'])\n",
    "    \n",
    "#print(final_dict['service_name'])\n"
   ]
  },
  {
   "cell_type": "code",
   "execution_count": 58,
   "metadata": {},
   "outputs": [
    {
     "data": {
      "text/html": [
       "<div>\n",
       "<style scoped>\n",
       "    .dataframe tbody tr th:only-of-type {\n",
       "        vertical-align: middle;\n",
       "    }\n",
       "\n",
       "    .dataframe tbody tr th {\n",
       "        vertical-align: top;\n",
       "    }\n",
       "\n",
       "    .dataframe thead th {\n",
       "        text-align: right;\n",
       "    }\n",
       "</style>\n",
       "<table border=\"1\" class=\"dataframe\">\n",
       "  <thead>\n",
       "    <tr style=\"text-align: right;\">\n",
       "      <th></th>\n",
       "      <th>lifecycle</th>\n",
       "      <th>service_name</th>\n",
       "      <th>service_version</th>\n",
       "    </tr>\n",
       "  </thead>\n",
       "  <tbody>\n",
       "    <tr>\n",
       "      <th>0</th>\n",
       "      <td>int-5ae1e_channel-reimbursementinquirymobilewi...</td>\n",
       "      <td>dtr-tst.alight.com/alight/channel-reimbursemen...</td>\n",
       "      <td>dtr-tst.alight.com/alight/channel-reimbursemen...</td>\n",
       "    </tr>\n",
       "    <tr>\n",
       "      <th>1</th>\n",
       "      <td>qa-22b13_channel-hminquirymobilewidgets</td>\n",
       "      <td>dtr-tst.alight.com/alight/channel-hminquirymob...</td>\n",
       "      <td>dtr-tst.alight.com/alight/channel-hminquirymob...</td>\n",
       "    </tr>\n",
       "    <tr>\n",
       "      <th>2</th>\n",
       "      <td>int-7d0b8_definedcontributionplans</td>\n",
       "      <td>dtr-tst.alight.com/alight/definedcontributionp...</td>\n",
       "      <td>dtr-tst.alight.com/alight/definedcontributionp...</td>\n",
       "    </tr>\n",
       "    <tr>\n",
       "      <th>3</th>\n",
       "      <td>dev-load-properties</td>\n",
       "      <td>dtr-tst.alight.com/alight/load-properties:1.0....</td>\n",
       "      <td>dtr-tst.alight.com/alight/load-properties:1.0....</td>\n",
       "    </tr>\n",
       "    <tr>\n",
       "      <th>4</th>\n",
       "      <td>int-a9dcf_udp-personworker-ingest</td>\n",
       "      <td>dtr-tst.alight.com/alight/udp-personworker-ing...</td>\n",
       "      <td>dtr-tst.alight.com/alight/udp-personworker-ing...</td>\n",
       "    </tr>\n",
       "    <tr>\n",
       "      <th>...</th>\n",
       "      <td>...</td>\n",
       "      <td>...</td>\n",
       "      <td>...</td>\n",
       "    </tr>\n",
       "    <tr>\n",
       "      <th>591</th>\n",
       "      <td>int-17344_channel-paycheckallocationwizard</td>\n",
       "      <td>dtr-tst.alight.com/alight/channel-paycheckallo...</td>\n",
       "      <td>dtr-tst.alight.com/alight/channel-paycheckallo...</td>\n",
       "    </tr>\n",
       "    <tr>\n",
       "      <th>592</th>\n",
       "      <td>qa-722f1_channel-dcchangefutureinvestmentwidgets</td>\n",
       "      <td>dtr-tst.alight.com/alight/channel-dcchangefutu...</td>\n",
       "      <td>dtr-tst.alight.com/alight/channel-dcchangefutu...</td>\n",
       "    </tr>\n",
       "    <tr>\n",
       "      <th>593</th>\n",
       "      <td>qa-a1567_personsearch</td>\n",
       "      <td>dtr-tst.alight.com/alight/personsearch:1.6.0</td>\n",
       "      <td>dtr-tst.alight.com/alight/personsearch:1.6.0</td>\n",
       "    </tr>\n",
       "    <tr>\n",
       "      <th>594</th>\n",
       "      <td>int-1acaa_channel-clientappconfigurations</td>\n",
       "      <td>dtr-tst.alight.com/alight/channel-clientappcon...</td>\n",
       "      <td>dtr-tst.alight.com/alight/channel-clientappcon...</td>\n",
       "    </tr>\n",
       "    <tr>\n",
       "      <th>595</th>\n",
       "      <td>int-12312_persondefinedcontributionhistory</td>\n",
       "      <td>dtr-tst.alight.com/alight/persondefinedcontrib...</td>\n",
       "      <td>dtr-tst.alight.com/alight/persondefinedcontrib...</td>\n",
       "    </tr>\n",
       "  </tbody>\n",
       "</table>\n",
       "<p>596 rows × 3 columns</p>\n",
       "</div>"
      ],
      "text/plain": [
       "                                             lifecycle  \\\n",
       "0    int-5ae1e_channel-reimbursementinquirymobilewi...   \n",
       "1              qa-22b13_channel-hminquirymobilewidgets   \n",
       "2                   int-7d0b8_definedcontributionplans   \n",
       "3                                  dev-load-properties   \n",
       "4                    int-a9dcf_udp-personworker-ingest   \n",
       "..                                                 ...   \n",
       "591         int-17344_channel-paycheckallocationwizard   \n",
       "592   qa-722f1_channel-dcchangefutureinvestmentwidgets   \n",
       "593                              qa-a1567_personsearch   \n",
       "594          int-1acaa_channel-clientappconfigurations   \n",
       "595         int-12312_persondefinedcontributionhistory   \n",
       "\n",
       "                                          service_name  \\\n",
       "0    dtr-tst.alight.com/alight/channel-reimbursemen...   \n",
       "1    dtr-tst.alight.com/alight/channel-hminquirymob...   \n",
       "2    dtr-tst.alight.com/alight/definedcontributionp...   \n",
       "3    dtr-tst.alight.com/alight/load-properties:1.0....   \n",
       "4    dtr-tst.alight.com/alight/udp-personworker-ing...   \n",
       "..                                                 ...   \n",
       "591  dtr-tst.alight.com/alight/channel-paycheckallo...   \n",
       "592  dtr-tst.alight.com/alight/channel-dcchangefutu...   \n",
       "593       dtr-tst.alight.com/alight/personsearch:1.6.0   \n",
       "594  dtr-tst.alight.com/alight/channel-clientappcon...   \n",
       "595  dtr-tst.alight.com/alight/persondefinedcontrib...   \n",
       "\n",
       "                                       service_version  \n",
       "0    dtr-tst.alight.com/alight/channel-reimbursemen...  \n",
       "1    dtr-tst.alight.com/alight/channel-hminquirymob...  \n",
       "2    dtr-tst.alight.com/alight/definedcontributionp...  \n",
       "3    dtr-tst.alight.com/alight/load-properties:1.0....  \n",
       "4    dtr-tst.alight.com/alight/udp-personworker-ing...  \n",
       "..                                                 ...  \n",
       "591  dtr-tst.alight.com/alight/channel-paycheckallo...  \n",
       "592  dtr-tst.alight.com/alight/channel-dcchangefutu...  \n",
       "593       dtr-tst.alight.com/alight/personsearch:1.6.0  \n",
       "594  dtr-tst.alight.com/alight/channel-clientappcon...  \n",
       "595  dtr-tst.alight.com/alight/persondefinedcontrib...  \n",
       "\n",
       "[596 rows x 3 columns]"
      ]
     },
     "execution_count": 58,
     "metadata": {},
     "output_type": "execute_result"
    }
   ],
   "source": [
    "from functools import reduce\n",
    "\n",
    "def create_dataframe(fields_name):\n",
    "    new_dict = {i: [] for i in fields_name.keys()}\n",
    "    for k, v in fields_name.items():\n",
    "        for i in range(0, len(json_data)):\n",
    "            v_list= v.split(\".\")\n",
    "            actual_data = reduce(dict.get, v_list, json_data[i])\n",
    "            #print(actual_data)\n",
    "            new_dict[k].append(actual_data)\n",
    "    return new_dict\n",
    "life= create_dataframe({'lifecycle':'Spec.Name', 'service_name': 'Spec.TaskTemplate.ContainerSpec.Image','service_version': 'Spec.TaskTemplate.ContainerSpec.Image'})\n",
    "df = pd.DataFrame(life)\n",
    "df\n",
    "\n"
   ]
  },
  {
   "cell_type": "code",
   "execution_count": 51,
   "metadata": {},
   "outputs": [],
   "source": [
    "from docker_swarm_mod import create_df"
   ]
  },
  {
   "cell_type": "code",
   "execution_count": 53,
   "metadata": {},
   "outputs": [],
   "source": [
    "from functools import reduce\n",
    "pat = [\"Spec\", 'Name']\n",
    "#actual_data = reduce(dict.get, pat, json_data[0])\n",
    "#print(actual_data)"
   ]
  },
  {
   "cell_type": "code",
   "execution_count": 56,
   "metadata": {},
   "outputs": [
    {
     "name": "stdout",
     "output_type": "stream",
     "text": [
      "['Spec', 'Name']\n"
     ]
    }
   ],
   "source": [
    "l = 'Spec.Name'\n",
    "l1 = l.split(\".\")\n",
    "print(l1)"
   ]
  },
  {
   "cell_type": "markdown",
   "metadata": {},
   "source": []
  }
 ],
 "metadata": {
  "interpreter": {
   "hash": "5fd5c06275f551dc8d943d7024d9c953f74399b8cce1e314d6eaa234ec1df002"
  },
  "kernelspec": {
   "display_name": "Python 3.10.0 ('api_env': venv)",
   "language": "python",
   "name": "python3"
  },
  "language_info": {
   "codemirror_mode": {
    "name": "ipython",
    "version": 3
   },
   "file_extension": ".py",
   "mimetype": "text/x-python",
   "name": "python",
   "nbconvert_exporter": "python",
   "pygments_lexer": "ipython3",
   "version": "3.10.0"
  },
  "orig_nbformat": 4
 },
 "nbformat": 4,
 "nbformat_minor": 2
}
